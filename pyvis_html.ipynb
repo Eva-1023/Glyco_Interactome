{
 "cells": [
  {
   "cell_type": "code",
   "execution_count": 1,
   "metadata": {},
   "outputs": [],
   "source": [
    "from pyvis import network as net\n",
    "import networkx as nx \n",
    "from pyvis.network import Network\n",
    "import streamlit as st\n",
    "from IPython.core.display import display, HTML"
   ]
  },
  {
   "cell_type": "code",
   "execution_count": 13,
   "metadata": {},
   "outputs": [],
   "source": []
  },
  {
   "cell_type": "code",
   "execution_count": 37,
   "metadata": {},
   "outputs": [],
   "source": [
    "\n",
    "def create_html(path):\n",
    "    # Load CYS data from graphml file\n",
    "    graph = nx.read_graphml((path))\n",
    "    # Extracting and displaying the node metadata\n",
    "    node_metadata = {node: graph.nodes[node] for node in graph.nodes()}\n",
    "    node_metadata_list = list(node_metadata.items())[:10]  # Displaying metadata for first 10 nodes for brevity\n",
    "    # Create a Pyvis network\n",
    "    net = Network(notebook=False, height=\"750px\", width=\"100%\")\n",
    "\n",
    "    # Node customization settings\n",
    "    special_nodes = ['BSG', 'CD44', 'EGFR', 'SLC3A2']\n",
    "    special_shape = 'star'  # Example shape\n",
    "    special_color = '#ff0000'  # Example color (red)\n",
    "    node_size = 15  # Adjust node size\n",
    "    font_size = 14  # Adjust font size\n",
    "\n",
    "    for node, attrs in graph.nodes(data=True):\n",
    "        if attrs.get('name') in special_nodes:\n",
    "            net.add_node(node, label=attrs.get('name', ''), shape=special_shape, color=special_color, size=node_size, font=dict(size=font_size))\n",
    "        else:\n",
    "            net.add_node(node, label=attrs.get('name', ''), size=node_size, font=dict(size=font_size))\n",
    "\n",
    "    # Add edges with hover data\n",
    "    for source, target, attrs in graph.edges(data=True):\n",
    "        title = \"<br>\".join(f\"{key}: {value}\" for key, value in attrs.items())  # Prepare hover text for edges\n",
    "        net.add_edge(source, target, title=title)\n",
    "\n",
    "    # Set options for better visualization and enable physics initially\n",
    "    net.show_buttons(filter_=['physics'])\n",
    "\n",
    "\n",
    "    # Save and display the network\n",
    "    \n",
    "    net.show(path.replace('.graphml', '.html'))"
   ]
  },
  {
   "cell_type": "code",
   "execution_count": 22,
   "metadata": {},
   "outputs": [],
   "source": [
    "path = 'data/network_total.graphml'\n",
    "create_html(path)"
   ]
  },
  {
   "cell_type": "code",
   "execution_count": 36,
   "metadata": {},
   "outputs": [],
   "source": [
    "import os \n",
    "\n",
    "for file in os.listdir('data/graph/'):\n",
    "    if file.endswith('.graphml'):\n",
    "        create_html('data/graph/' + file)"
   ]
  }
 ],
 "metadata": {
  "kernelspec": {
   "display_name": "autogluon",
   "language": "python",
   "name": "python3"
  },
  "language_info": {
   "codemirror_mode": {
    "name": "ipython",
    "version": 3
   },
   "file_extension": ".py",
   "mimetype": "text/x-python",
   "name": "python",
   "nbconvert_exporter": "python",
   "pygments_lexer": "ipython3",
   "version": "3.8.13"
  }
 },
 "nbformat": 4,
 "nbformat_minor": 2
}
